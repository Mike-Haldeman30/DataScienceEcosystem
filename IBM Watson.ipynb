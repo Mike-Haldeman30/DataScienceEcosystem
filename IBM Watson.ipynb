{
    "cells": [
        {
            "cell_type": "markdown",
            "metadata": {
                "collapsed": true
            },
            "source": "# My Jupyter Notebook on IBM Watson Studio"
        },
        {
            "cell_type": "markdown",
            "metadata": {},
            "source": "**Michael Haldeman** Data Scientist"
        },
        {
            "cell_type": "markdown",
            "metadata": {},
            "source": "*I am interested in Data Science because I enjoy working with data. I find it fasinating the story that data tells.*"
        },
        {
            "cell_type": "markdown",
            "metadata": {},
            "source": "### This is a simple math equation and output using Python"
        },
        {
            "cell_type": "code",
            "execution_count": 2,
            "metadata": {},
            "outputs": [
                {
                    "data": {
                        "text/plain": "196"
                    },
                    "execution_count": 2,
                    "metadata": {},
                    "output_type": "execute_result"
                }
            ],
            "source": "(50 + 48)*2"
        },
        {
            "cell_type": "markdown",
            "metadata": {},
            "source": "#### IBM Watson is extrremely useful as it can:\n\n1. Use Jupyter Notebooks\n2. Connect to Github\n3. Create AI and machine learning models\n\n* Creates an all in one platform\n* Makes it easy for porgramers to work on one software\n\n#### Any other uses can be found here \n\n[\"Tools For Data Science\".](https://www.coursera.org/learn/open-source-tools-for-data-science/home)"
        },
        {
            "cell_type": "code",
            "execution_count": null,
            "metadata": {},
            "outputs": [],
            "source": ""
        }
    ],
    "metadata": {
        "kernelspec": {
            "display_name": "Python 3.10",
            "language": "python",
            "name": "python3"
        },
        "language_info": {
            "codemirror_mode": {
                "name": "ipython",
                "version": 3
            },
            "file_extension": ".py",
            "mimetype": "text/x-python",
            "name": "python",
            "nbconvert_exporter": "python",
            "pygments_lexer": "ipython3",
            "version": "3.10.9"
        }
    },
    "nbformat": 4,
    "nbformat_minor": 1
}