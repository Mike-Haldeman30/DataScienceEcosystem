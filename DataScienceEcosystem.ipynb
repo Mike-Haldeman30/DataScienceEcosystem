{
 "cells": [
  {
   "cell_type": "markdown",
   "id": "cb84ccd7",
   "metadata": {},
   "source": [
    "# Data Science Tools and Ecosystem "
   ]
  },
  {
   "cell_type": "markdown",
   "id": "cd5c273c",
   "metadata": {},
   "source": [
    "In this notebook, Data Science Tools and ecosystems are summarized."
   ]
  },
  {
   "cell_type": "markdown",
   "id": "f0d671c8",
   "metadata": {},
   "source": [
    "**Objectives:**\n",
    "\n",
    "* List Languages for Data Science\n",
    "* List libraries used in Data Science\n",
    "* Evaluated arithmetic expressions in Python"
   ]
  },
  {
   "cell_type": "markdown",
   "id": "c4643389",
   "metadata": {},
   "source": [
    "Some of the popular languages that Data Scientists use are :\n",
    "\n",
    "1. Python\n",
    "2. R\n",
    "3. SQL"
   ]
  },
  {
   "cell_type": "markdown",
   "id": "38a4b602",
   "metadata": {},
   "source": [
    "Some of the commonly used libraries used by Data Scientists include:\n",
    "\n",
    "\n",
    "* Pandas\n",
    "* Numpy\n",
    "* sk-learn"
   ]
  },
  {
   "cell_type": "markdown",
   "id": "f6fb09b9",
   "metadata": {},
   "source": [
    "| Data Science Tools |\n",
    "| --- | \n",
    "| RStudio |\n",
    "| TensorFlow |\n",
    "| Apache Hadoop |"
   ]
  },
  {
   "cell_type": "markdown",
   "id": "29404e9d",
   "metadata": {},
   "source": [
    "### Below are a few examples if evaluating arithmetic expressions in Python"
   ]
  },
  {
   "cell_type": "code",
   "execution_count": 2,
   "id": "0cb7076e",
   "metadata": {},
   "outputs": [
    {
     "data": {
      "text/plain": [
       "17"
      ]
     },
     "execution_count": 2,
     "metadata": {},
     "output_type": "execute_result"
    }
   ],
   "source": [
    "#This a simple arithmetic expression to mutiply then add integers\n",
    "(3*4)+5"
   ]
  },
  {
   "cell_type": "code",
   "execution_count": 4,
   "id": "b4ca7fb2",
   "metadata": {},
   "outputs": [
    {
     "data": {
      "text/plain": [
       "3.3333333333333335"
      ]
     },
     "execution_count": 4,
     "metadata": {},
     "output_type": "execute_result"
    }
   ],
   "source": [
    "#This will convert 200 minutes to hours by diving by 60\n",
    "200/60"
   ]
  },
  {
   "cell_type": "markdown",
   "id": "847e5891",
   "metadata": {},
   "source": [
    "## Author\n",
    "Michael Haldeman"
   ]
  },
  {
   "cell_type": "code",
   "execution_count": null,
   "id": "ee86511a",
   "metadata": {},
   "outputs": [],
   "source": []
  }
 ],
 "metadata": {
  "kernelspec": {
   "display_name": "Python 3 (ipykernel)",
   "language": "python",
   "name": "python3"
  },
  "language_info": {
   "codemirror_mode": {
    "name": "ipython",
    "version": 3
   },
   "file_extension": ".py",
   "mimetype": "text/x-python",
   "name": "python",
   "nbconvert_exporter": "python",
   "pygments_lexer": "ipython3",
   "version": "3.9.12"
  }
 },
 "nbformat": 4,
 "nbformat_minor": 5
}
